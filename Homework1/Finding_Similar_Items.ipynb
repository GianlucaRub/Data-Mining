{
  "cells": [
    {
      "cell_type": "markdown",
      "id": "29c9642d",
      "metadata": {
        "id": "29c9642d"
      },
      "source": [
        "# Homework 1: Finding Similar Items: Textually Similar Documents"
      ]
    },
    {
      "cell_type": "markdown",
      "id": "a9158a12",
      "metadata": {
        "id": "a9158a12"
      },
      "source": [
        "Group 28: Fabio Camerota, Gianluca Ruberto"
      ]
    },
    {
      "cell_type": "markdown",
      "source": [
        "## Solution\n"
      ],
      "metadata": {
        "id": "xLrvzA5zmd2y"
      },
      "id": "xLrvzA5zmd2y"
    },
    {
      "cell_type": "markdown",
      "source": [
        "###Framework"
      ],
      "metadata": {
        "id": "dcaoEo17ykUp"
      },
      "id": "dcaoEo17ykUp"
    },
    {
      "cell_type": "markdown",
      "source": [
        "The goal of this homework was to find textually similar documents based on Jaccard similarity using the shingling, minhashing, and locality-sensitive hashing (LSH) techniques. <br>\n",
        "The language of choice was Python and the big data processing framework used was Spark, due to the scalability provided."
      ],
      "metadata": {
        "id": "lCQSORy1yohj"
      },
      "id": "lCQSORy1yohj"
    },
    {
      "cell_type": "markdown",
      "id": "5cd17ed3",
      "metadata": {
        "id": "5cd17ed3"
      },
      "source": [
        "### Dataset\n"
      ]
    },
    {
      "cell_type": "markdown",
      "source": [
        "The dataset was downloaded from https://www.kaggle.com/datasets/clmentbisaillon/fake-and-real-news-dataset"
      ],
      "metadata": {
        "id": "0tlpfRtByrZq"
      },
      "id": "0tlpfRtByrZq"
    },
    {
      "cell_type": "markdown",
      "source": [
        "###How to run the notebook"
      ],
      "metadata": {
        "id": "PD9J6qPyywdU"
      },
      "id": "PD9J6qPyywdU"
    },
    {
      "cell_type": "markdown",
      "source": [
        "The notebook is ready to run on Google Colab. It can be also downloaded an run locally. In the latter case it is necessary to install all the libraries (pyspark, findspark, matplotlib)"
      ],
      "metadata": {
        "id": "bVdotf7Ey0uV"
      },
      "id": "bVdotf7Ey0uV"
    },
    {
      "cell_type": "markdown",
      "source": [
        "###Default values"
      ],
      "metadata": {
        "id": "lqLCvCKO1qf1"
      },
      "id": "lqLCvCKO1qf1"
    },
    {
      "cell_type": "markdown",
      "source": [
        "Since we are dealing with newspaper articles, we are using shingles of default size 5. The default length of minHash signatures is 100. The default number of bands is 10 and the default threshold is 0.8."
      ],
      "metadata": {
        "id": "YUUxk38k1s0Y"
      },
      "id": "YUUxk38k1s0Y"
    },
    {
      "cell_type": "markdown",
      "source": [
        "## Preliminary Steps"
      ],
      "metadata": {
        "id": "N-ZkY9WdoTVP"
      },
      "id": "N-ZkY9WdoTVP"
    },
    {
      "cell_type": "markdown",
      "id": "cf737cb4",
      "metadata": {
        "id": "cf737cb4"
      },
      "source": [
        "###Libraries"
      ]
    },
    {
      "cell_type": "code",
      "execution_count": 1,
      "id": "d1508b60",
      "metadata": {
        "colab": {
          "base_uri": "https://localhost:8080/"
        },
        "id": "d1508b60",
        "outputId": "fe3d1971-e5fc-4a6b-9090-893c13801ba0"
      },
      "outputs": [
        {
          "output_type": "stream",
          "name": "stdout",
          "text": [
            "Mounted at /gdrive\n",
            "/gdrive/MyDrive/Data_Mining\n"
          ]
        }
      ],
      "source": [
        "from google.colab import drive\n",
        "drive.mount('/gdrive')\n",
        "%cd /gdrive/MyDrive/Data_Mining"
      ]
    },
    {
      "cell_type": "code",
      "execution_count": 2,
      "id": "N12pBKdKQYEh",
      "metadata": {
        "colab": {
          "base_uri": "https://localhost:8080/"
        },
        "id": "N12pBKdKQYEh",
        "outputId": "d8bc8869-397a-4938-d2b2-f31307745fdd"
      },
      "outputs": [
        {
          "output_type": "stream",
          "name": "stdout",
          "text": [
            "Looking in indexes: https://pypi.org/simple, https://us-python.pkg.dev/colab-wheels/public/simple/\n",
            "Collecting pyspark\n",
            "  Downloading pyspark-3.3.1.tar.gz (281.4 MB)\n",
            "\u001b[K     |████████████████████████████████| 281.4 MB 46 kB/s \n",
            "\u001b[?25hCollecting py4j==0.10.9.5\n",
            "  Downloading py4j-0.10.9.5-py2.py3-none-any.whl (199 kB)\n",
            "\u001b[K     |████████████████████████████████| 199 kB 46.0 MB/s \n",
            "\u001b[?25hBuilding wheels for collected packages: pyspark\n",
            "  Building wheel for pyspark (setup.py) ... \u001b[?25l\u001b[?25hdone\n",
            "  Created wheel for pyspark: filename=pyspark-3.3.1-py2.py3-none-any.whl size=281845514 sha256=a95a314ca131aeb45e2125f1e85a9b3917d5c6b1b653a44f6508e7a1f31fc6c0\n",
            "  Stored in directory: /root/.cache/pip/wheels/42/59/f5/79a5bf931714dcd201b26025347785f087370a10a3329a899c\n",
            "Successfully built pyspark\n",
            "Installing collected packages: py4j, pyspark\n",
            "Successfully installed py4j-0.10.9.5 pyspark-3.3.1\n",
            "Looking in indexes: https://pypi.org/simple, https://us-python.pkg.dev/colab-wheels/public/simple/\n",
            "Collecting findspark\n",
            "  Downloading findspark-2.0.1-py2.py3-none-any.whl (4.4 kB)\n",
            "Installing collected packages: findspark\n",
            "Successfully installed findspark-2.0.1\n"
          ]
        }
      ],
      "source": [
        "!pip install pyspark\n",
        "!pip install findspark"
      ]
    },
    {
      "cell_type": "code",
      "execution_count": 3,
      "id": "3eb95fc2",
      "metadata": {
        "id": "3eb95fc2"
      },
      "outputs": [],
      "source": [
        "import pyspark\n",
        "import findspark\n",
        "from pyspark.sql import SparkSession\n",
        "from pyspark.sql.functions import udf,isnan, when, count,col, monotonically_increasing_id, split,length,stddev,avg,transform,size,array_intersect,array_union,collect_set\n",
        "from pyspark.sql.types import IntegerType, ArrayType, StringType, LongType, DecimalType, FloatType, MapType, StructType, StructField\n",
        "import sys\n",
        "import time\n",
        "import random\n",
        "import matplotlib.pyplot as plt\n",
        "\n",
        "seed = 42\n",
        "random.seed(seed)\n",
        "byteseed = seed.to_bytes(2, 'big')"
      ]
    },
    {
      "cell_type": "markdown",
      "id": "d41b4f16",
      "metadata": {
        "id": "d41b4f16"
      },
      "source": [
        "### Spark setup"
      ]
    },
    {
      "cell_type": "code",
      "execution_count": 4,
      "id": "ae62cdba",
      "metadata": {
        "id": "ae62cdba",
        "colab": {
          "base_uri": "https://localhost:8080/",
          "height": 219
        },
        "outputId": "8e62d783-1514-470f-8c78-55625b87d848"
      },
      "outputs": [
        {
          "output_type": "execute_result",
          "data": {
            "text/plain": [
              "<pyspark.sql.session.SparkSession at 0x7f998f7e3910>"
            ],
            "text/html": [
              "\n",
              "            <div>\n",
              "                <p><b>SparkSession - in-memory</b></p>\n",
              "                \n",
              "        <div>\n",
              "            <p><b>SparkContext</b></p>\n",
              "\n",
              "            <p><a href=\"http://d582553f1220:4040\">Spark UI</a></p>\n",
              "\n",
              "            <dl>\n",
              "              <dt>Version</dt>\n",
              "                <dd><code>v3.3.1</code></dd>\n",
              "              <dt>Master</dt>\n",
              "                <dd><code>local[*]</code></dd>\n",
              "              <dt>AppName</dt>\n",
              "                <dd><code>pyspark-shell</code></dd>\n",
              "            </dl>\n",
              "        </div>\n",
              "        \n",
              "            </div>\n",
              "        "
            ]
          },
          "metadata": {},
          "execution_count": 4
        }
      ],
      "source": [
        "findspark.init()\n",
        "findspark.find()\n",
        "spark = SparkSession.builder.master(\"local[*]\").getOrCreate()\n",
        "spark.conf.set(\"spark.sql.repl.eagerEval.enabled\", True) # Property used to format output tables better\n",
        "spark"
      ]
    },
    {
      "cell_type": "markdown",
      "id": "d24eac61",
      "metadata": {
        "id": "d24eac61"
      },
      "source": [
        "### Load data"
      ]
    },
    {
      "cell_type": "code",
      "execution_count": 5,
      "id": "baa74d69",
      "metadata": {
        "id": "baa74d69",
        "scrolled": true,
        "colab": {
          "base_uri": "https://localhost:8080/",
          "height": 520
        },
        "outputId": "7f111cf9-2bcf-4e9b-ab71-4fef52173598"
      },
      "outputs": [
        {
          "output_type": "execute_result",
          "data": {
            "text/plain": [
              "+--------------------+--------------------+--------------------+------------------+\n",
              "|               title|                text|             subject|              date|\n",
              "+--------------------+--------------------+--------------------+------------------+\n",
              "|As U.S. budget fi...|WASHINGTON (Reute...|        politicsNews|December 31, 2017 |\n",
              "|U.S. military to ...|WASHINGTON (Reute...|        politicsNews|December 29, 2017 |\n",
              "|Senior U.S. Repub...|WASHINGTON (Reute...|        politicsNews|December 31, 2017 |\n",
              "|FBI Russia probe ...|WASHINGTON (Reute...|        politicsNews|December 30, 2017 |\n",
              "|Trump wants Posta...|SEATTLE/WASHINGTO...|        politicsNews|December 29, 2017 |\n",
              "|White House, Cong...|WEST PALM BEACH, ...|        politicsNews|December 29, 2017 |\n",
              "|Trump says Russia...|WEST PALM BEACH, ...|        politicsNews|December 29, 2017 |\n",
              "|Factbox: Trump on...|The following sta...|        politicsNews|December 29, 2017 |\n",
              "|Trump on Twitter ...|The following sta...|        politicsNews|December 29, 2017 |\n",
              "|Alabama official ...|WASHINGTON (Reute...|        politicsNews|December 28, 2017 |\n",
              "|Jones certified U...|(Reuters) - Alaba...|        politicsNews|December 28, 2017 |\n",
              "|New York governor...|NEW YORK/WASHINGT...|        politicsNews|December 28, 2017 |\n",
              "|Factbox: Trump on...|The following sta...|        politicsNews|December 28, 2017 |\n",
              "|Trump on Twitter ...|\"The following st...| Associates Up 83...|      politicsNews|\n",
              "|Man says he deliv...| (In Dec. 25 stor...|        politicsNews|December 25, 2017 |\n",
              "|Virginia official...|(Reuters) - A lot...|        politicsNews|December 27, 2017 |\n",
              "|U.S. lawmakers qu...|WASHINGTON (Reute...|        politicsNews|December 27, 2017 |\n",
              "|Trump on Twitter ...|The following sta...|        politicsNews|December 26, 2017 |\n",
              "|U.S. appeals cour...|(Reuters) - A U.S...|        politicsNews|December 26, 2017 |\n",
              "|Treasury Secretar...|(Reuters) - A gif...|        politicsNews|December 24, 2017 |\n",
              "+--------------------+--------------------+--------------------+------------------+\n",
              "only showing top 20 rows"
            ],
            "text/html": [
              "<table border='1'>\n",
              "<tr><th>title</th><th>text</th><th>subject</th><th>date</th></tr>\n",
              "<tr><td>As U.S. budget fi...</td><td>WASHINGTON (Reute...</td><td>politicsNews</td><td>December 31, 2017 </td></tr>\n",
              "<tr><td>U.S. military to ...</td><td>WASHINGTON (Reute...</td><td>politicsNews</td><td>December 29, 2017 </td></tr>\n",
              "<tr><td>Senior U.S. Repub...</td><td>WASHINGTON (Reute...</td><td>politicsNews</td><td>December 31, 2017 </td></tr>\n",
              "<tr><td>FBI Russia probe ...</td><td>WASHINGTON (Reute...</td><td>politicsNews</td><td>December 30, 2017 </td></tr>\n",
              "<tr><td>Trump wants Posta...</td><td>SEATTLE/WASHINGTO...</td><td>politicsNews</td><td>December 29, 2017 </td></tr>\n",
              "<tr><td>White House, Cong...</td><td>WEST PALM BEACH, ...</td><td>politicsNews</td><td>December 29, 2017 </td></tr>\n",
              "<tr><td>Trump says Russia...</td><td>WEST PALM BEACH, ...</td><td>politicsNews</td><td>December 29, 2017 </td></tr>\n",
              "<tr><td>Factbox: Trump on...</td><td>The following sta...</td><td>politicsNews</td><td>December 29, 2017 </td></tr>\n",
              "<tr><td>Trump on Twitter ...</td><td>The following sta...</td><td>politicsNews</td><td>December 29, 2017 </td></tr>\n",
              "<tr><td>Alabama official ...</td><td>WASHINGTON (Reute...</td><td>politicsNews</td><td>December 28, 2017 </td></tr>\n",
              "<tr><td>Jones certified U...</td><td>(Reuters) - Alaba...</td><td>politicsNews</td><td>December 28, 2017 </td></tr>\n",
              "<tr><td>New York governor...</td><td>NEW YORK/WASHINGT...</td><td>politicsNews</td><td>December 28, 2017 </td></tr>\n",
              "<tr><td>Factbox: Trump on...</td><td>The following sta...</td><td>politicsNews</td><td>December 28, 2017 </td></tr>\n",
              "<tr><td>Trump on Twitter ...</td><td>&quot;The following st...</td><td> Associates Up 83...</td><td>politicsNews</td></tr>\n",
              "<tr><td>Man says he deliv...</td><td> (In Dec. 25 stor...</td><td>politicsNews</td><td>December 25, 2017 </td></tr>\n",
              "<tr><td>Virginia official...</td><td>(Reuters) - A lot...</td><td>politicsNews</td><td>December 27, 2017 </td></tr>\n",
              "<tr><td>U.S. lawmakers qu...</td><td>WASHINGTON (Reute...</td><td>politicsNews</td><td>December 27, 2017 </td></tr>\n",
              "<tr><td>Trump on Twitter ...</td><td>The following sta...</td><td>politicsNews</td><td>December 26, 2017 </td></tr>\n",
              "<tr><td>U.S. appeals cour...</td><td>(Reuters) - A U.S...</td><td>politicsNews</td><td>December 26, 2017 </td></tr>\n",
              "<tr><td>Treasury Secretar...</td><td>(Reuters) - A gif...</td><td>politicsNews</td><td>December 24, 2017 </td></tr>\n",
              "</table>\n",
              "only showing top 20 rows\n"
            ]
          },
          "metadata": {},
          "execution_count": 5
        }
      ],
      "source": [
        "df = spark.read.csv(\"News/True.csv\",header = True).limit(500)\n",
        "df"
      ]
    },
    {
      "cell_type": "markdown",
      "id": "99bed54e",
      "metadata": {
        "id": "99bed54e"
      },
      "source": [
        "### Data preprocessing"
      ]
    },
    {
      "cell_type": "code",
      "execution_count": 6,
      "id": "1315e1af",
      "metadata": {
        "id": "1315e1af",
        "colab": {
          "base_uri": "https://localhost:8080/",
          "height": 520
        },
        "outputId": "5a29d638-ebd3-4886-d023-03a1ad67cc16"
      },
      "outputs": [
        {
          "output_type": "execute_result",
          "data": {
            "text/plain": [
              "+--------------------+--------------------+--------------------+------------------+---+\n",
              "|               title|                Text|             subject|              date| id|\n",
              "+--------------------+--------------------+--------------------+------------------+---+\n",
              "|As U.S. budget fi...|WASHINGTON (Reute...|        politicsNews|December 31, 2017 |  0|\n",
              "|U.S. military to ...|WASHINGTON (Reute...|        politicsNews|December 29, 2017 |  1|\n",
              "|Senior U.S. Repub...|WASHINGTON (Reute...|        politicsNews|December 31, 2017 |  2|\n",
              "|FBI Russia probe ...|WASHINGTON (Reute...|        politicsNews|December 30, 2017 |  3|\n",
              "|Trump wants Posta...|SEATTLE/WASHINGTO...|        politicsNews|December 29, 2017 |  4|\n",
              "|White House, Cong...|WEST PALM BEACH, ...|        politicsNews|December 29, 2017 |  5|\n",
              "|Trump says Russia...|WEST PALM BEACH, ...|        politicsNews|December 29, 2017 |  6|\n",
              "|Factbox: Trump on...|The following sta...|        politicsNews|December 29, 2017 |  7|\n",
              "|Trump on Twitter ...|The following sta...|        politicsNews|December 29, 2017 |  8|\n",
              "|Alabama official ...|WASHINGTON (Reute...|        politicsNews|December 28, 2017 |  9|\n",
              "|Jones certified U...|(Reuters) - Alaba...|        politicsNews|December 28, 2017 | 10|\n",
              "|New York governor...|NEW YORK/WASHINGT...|        politicsNews|December 28, 2017 | 11|\n",
              "|Factbox: Trump on...|The following sta...|        politicsNews|December 28, 2017 | 12|\n",
              "|Trump on Twitter ...|\"The following st...| Associates Up 83...|      politicsNews| 13|\n",
              "|Man says he deliv...| (In Dec. 25 stor...|        politicsNews|December 25, 2017 | 14|\n",
              "|Virginia official...|(Reuters) - A lot...|        politicsNews|December 27, 2017 | 15|\n",
              "|U.S. lawmakers qu...|WASHINGTON (Reute...|        politicsNews|December 27, 2017 | 16|\n",
              "|Trump on Twitter ...|The following sta...|        politicsNews|December 26, 2017 | 17|\n",
              "|U.S. appeals cour...|(Reuters) - A U.S...|        politicsNews|December 26, 2017 | 18|\n",
              "|Treasury Secretar...|(Reuters) - A gif...|        politicsNews|December 24, 2017 | 19|\n",
              "+--------------------+--------------------+--------------------+------------------+---+\n",
              "only showing top 20 rows"
            ],
            "text/html": [
              "<table border='1'>\n",
              "<tr><th>title</th><th>Text</th><th>subject</th><th>date</th><th>id</th></tr>\n",
              "<tr><td>As U.S. budget fi...</td><td>WASHINGTON (Reute...</td><td>politicsNews</td><td>December 31, 2017 </td><td>0</td></tr>\n",
              "<tr><td>U.S. military to ...</td><td>WASHINGTON (Reute...</td><td>politicsNews</td><td>December 29, 2017 </td><td>1</td></tr>\n",
              "<tr><td>Senior U.S. Repub...</td><td>WASHINGTON (Reute...</td><td>politicsNews</td><td>December 31, 2017 </td><td>2</td></tr>\n",
              "<tr><td>FBI Russia probe ...</td><td>WASHINGTON (Reute...</td><td>politicsNews</td><td>December 30, 2017 </td><td>3</td></tr>\n",
              "<tr><td>Trump wants Posta...</td><td>SEATTLE/WASHINGTO...</td><td>politicsNews</td><td>December 29, 2017 </td><td>4</td></tr>\n",
              "<tr><td>White House, Cong...</td><td>WEST PALM BEACH, ...</td><td>politicsNews</td><td>December 29, 2017 </td><td>5</td></tr>\n",
              "<tr><td>Trump says Russia...</td><td>WEST PALM BEACH, ...</td><td>politicsNews</td><td>December 29, 2017 </td><td>6</td></tr>\n",
              "<tr><td>Factbox: Trump on...</td><td>The following sta...</td><td>politicsNews</td><td>December 29, 2017 </td><td>7</td></tr>\n",
              "<tr><td>Trump on Twitter ...</td><td>The following sta...</td><td>politicsNews</td><td>December 29, 2017 </td><td>8</td></tr>\n",
              "<tr><td>Alabama official ...</td><td>WASHINGTON (Reute...</td><td>politicsNews</td><td>December 28, 2017 </td><td>9</td></tr>\n",
              "<tr><td>Jones certified U...</td><td>(Reuters) - Alaba...</td><td>politicsNews</td><td>December 28, 2017 </td><td>10</td></tr>\n",
              "<tr><td>New York governor...</td><td>NEW YORK/WASHINGT...</td><td>politicsNews</td><td>December 28, 2017 </td><td>11</td></tr>\n",
              "<tr><td>Factbox: Trump on...</td><td>The following sta...</td><td>politicsNews</td><td>December 28, 2017 </td><td>12</td></tr>\n",
              "<tr><td>Trump on Twitter ...</td><td>&quot;The following st...</td><td> Associates Up 83...</td><td>politicsNews</td><td>13</td></tr>\n",
              "<tr><td>Man says he deliv...</td><td> (In Dec. 25 stor...</td><td>politicsNews</td><td>December 25, 2017 </td><td>14</td></tr>\n",
              "<tr><td>Virginia official...</td><td>(Reuters) - A lot...</td><td>politicsNews</td><td>December 27, 2017 </td><td>15</td></tr>\n",
              "<tr><td>U.S. lawmakers qu...</td><td>WASHINGTON (Reute...</td><td>politicsNews</td><td>December 27, 2017 </td><td>16</td></tr>\n",
              "<tr><td>Trump on Twitter ...</td><td>The following sta...</td><td>politicsNews</td><td>December 26, 2017 </td><td>17</td></tr>\n",
              "<tr><td>U.S. appeals cour...</td><td>(Reuters) - A U.S...</td><td>politicsNews</td><td>December 26, 2017 </td><td>18</td></tr>\n",
              "<tr><td>Treasury Secretar...</td><td>(Reuters) - A gif...</td><td>politicsNews</td><td>December 24, 2017 </td><td>19</td></tr>\n",
              "</table>\n",
              "only showing top 20 rows\n"
            ]
          },
          "metadata": {},
          "execution_count": 6
        }
      ],
      "source": [
        "df = df.withColumn(\"id\", monotonically_increasing_id())\n",
        "df = df.withColumnRenamed(\"text\",\"Text\")\n",
        "df"
      ]
    },
    {
      "cell_type": "code",
      "execution_count": 7,
      "id": "c0b16fec",
      "metadata": {
        "id": "c0b16fec",
        "colab": {
          "base_uri": "https://localhost:8080/"
        },
        "outputId": "fee460a3-2f85-4585-a079-55b5f2aa181f"
      },
      "outputs": [
        {
          "output_type": "execute_result",
          "data": {
            "text/plain": [
              "500"
            ]
          },
          "metadata": {},
          "execution_count": 7
        }
      ],
      "source": [
        "# couting rows\n",
        "df.count()"
      ]
    },
    {
      "cell_type": "code",
      "execution_count": 8,
      "id": "52245b84",
      "metadata": {
        "id": "52245b84",
        "colab": {
          "base_uri": "https://localhost:8080/"
        },
        "outputId": "cf3a4269-39e2-4b5c-92c3-389ec3b81ee8"
      },
      "outputs": [
        {
          "output_type": "stream",
          "name": "stdout",
          "text": [
            "+-----+----+-------+----+---+\n",
            "|title|Text|subject|date| id|\n",
            "+-----+----+-------+----+---+\n",
            "|    0|   0|      0|   0|  0|\n",
            "+-----+----+-------+----+---+\n",
            "\n"
          ]
        }
      ],
      "source": [
        "# checking for null values\n",
        "null_values = df.select([count(when(col(c).isNull(), c)).alias(c) for c in df.columns])\n",
        "null_values.show()"
      ]
    },
    {
      "cell_type": "code",
      "execution_count": 9,
      "id": "9813c2b7",
      "metadata": {
        "id": "9813c2b7",
        "colab": {
          "base_uri": "https://localhost:8080/"
        },
        "outputId": "20158abd-a77a-4ed3-e26b-df95d804aa59"
      },
      "outputs": [
        {
          "output_type": "stream",
          "name": "stdout",
          "text": [
            "+-----+----+-------+----+---+\n",
            "|title|Text|subject|date| id|\n",
            "+-----+----+-------+----+---+\n",
            "|    0|   0|      0|   0|  0|\n",
            "+-----+----+-------+----+---+\n",
            "\n"
          ]
        }
      ],
      "source": [
        "# checking for None values\n",
        "df.select([count(when(isnan(c), c)).alias(c) for c in df.columns]).show()"
      ]
    },
    {
      "cell_type": "code",
      "execution_count": 10,
      "id": "1631d3d7",
      "metadata": {
        "id": "1631d3d7",
        "colab": {
          "base_uri": "https://localhost:8080/"
        },
        "outputId": "427dc521-32df-4ad1-b034-508366702872"
      },
      "outputs": [
        {
          "output_type": "stream",
          "name": "stdout",
          "text": [
            "root\n",
            " |-- title: string (nullable = true)\n",
            " |-- Text: string (nullable = true)\n",
            " |-- subject: string (nullable = true)\n",
            " |-- date: string (nullable = true)\n",
            " |-- id: long (nullable = false)\n",
            "\n"
          ]
        }
      ],
      "source": [
        "df.printSchema()"
      ]
    },
    {
      "cell_type": "code",
      "execution_count": 11,
      "id": "27bcd2b5",
      "metadata": {
        "id": "27bcd2b5",
        "colab": {
          "base_uri": "https://localhost:8080/"
        },
        "outputId": "d0fca5db-87b8-4699-8a29-6aba2ded0c00"
      },
      "outputs": [
        {
          "output_type": "execute_result",
          "data": {
            "text/plain": [
              "Row(title='As U.S. budget fight looms, Republicans flip their fiscal script', Text='WASHINGTON (Reuters) - The head of a conservative Republican faction in the U.S. Congress, who voted this month for a huge expansion of the national debt to pay for tax cuts, called himself a “fiscal conservative” on Sunday and urged budget restraint in 2018. In keeping with a sharp pivot under way among Republicans, U.S. Representative Mark Meadows, speaking on CBS’ “Face the Nation,” drew a hard line on federal spending, which lawmakers are bracing to do battle over in January. When they return from the holidays on Wednesday, lawmakers will begin trying to pass a federal budget in a fight likely to be linked to other issues, such as immigration policy, even as the November congressional election campaigns approach in which Republicans will seek to keep control of Congress. President Donald Trump and his Republicans want a big budget increase in military spending, while Democrats also want proportional increases for non-defense “discretionary” spending on programs that support education, scientific research, infrastructure, public health and environmental protection. “The (Trump) administration has already been willing to say: ‘We’re going to increase non-defense discretionary spending ... by about 7 percent,’” Meadows, chairman of the small but influential House Freedom Caucus, said on the program. “Now, Democrats are saying that’s not enough, we need to give the government a pay raise of 10 to 11 percent. For a fiscal conservative, I don’t see where the rationale is. ... Eventually you run out of other people’s money,” he said. Meadows was among Republicans who voted in late December for their party’s debt-financed tax overhaul, which is expected to balloon the federal budget deficit and add about $1.5 trillion over 10 years to the $20 trillion national debt. “It’s interesting to hear Mark talk about fiscal responsibility,” Democratic U.S. Representative Joseph Crowley said on CBS. Crowley said the Republican tax bill would require the  United States to borrow $1.5 trillion, to be paid off by future generations, to finance tax cuts for corporations and the rich. “This is one of the least ... fiscally responsible bills we’ve ever seen passed in the history of the House of Representatives. I think we’re going to be paying for this for many, many years to come,” Crowley said. Republicans insist the tax package, the biggest U.S. tax overhaul in more than 30 years,  will boost the economy and job growth. House Speaker Paul Ryan, who also supported the tax bill, recently went further than Meadows, making clear in a radio interview that welfare or “entitlement reform,” as the party often calls it, would be a top Republican priority in 2018. In Republican parlance, “entitlement” programs mean food stamps, housing assistance, Medicare and Medicaid health insurance for the elderly, poor and disabled, as well as other programs created by Washington to assist the needy. Democrats seized on Ryan’s early December remarks, saying they showed Republicans would try to pay for their tax overhaul by seeking spending cuts for social programs. But the goals of House Republicans may have to take a back seat to the Senate, where the votes of some Democrats will be needed to approve a budget and prevent a government shutdown. Democrats will use their leverage in the Senate, which Republicans narrowly control, to defend both discretionary non-defense programs and social spending, while tackling the issue of the “Dreamers,” people brought illegally to the country as children. Trump in September put a March 2018 expiration date on the Deferred Action for Childhood Arrivals, or DACA, program, which protects the young immigrants from deportation and provides them with work permits. The president has said in recent Twitter messages he wants funding for his proposed Mexican border wall and other immigration law changes in exchange for agreeing to help the Dreamers. Representative Debbie Dingell told CBS she did not favor linking that issue to other policy objectives, such as wall funding. “We need to do DACA clean,” she said.  On Wednesday, Trump aides will meet with congressional leaders to discuss those issues. That will be followed by a weekend of strategy sessions for Trump and Republican leaders on Jan. 6 and 7, the White House said. Trump was also scheduled to meet on Sunday with Florida Republican Governor Rick Scott, who wants more emergency aid. The House has passed an $81 billion aid package after hurricanes in Florida, Texas and Puerto Rico, and wildfires in California. The package far exceeded the $44 billion requested by the Trump administration. The Senate has not yet voted on the aid. ', subject='politicsNews', date='December 31, 2017 ', id=0)"
            ]
          },
          "metadata": {},
          "execution_count": 11
        }
      ],
      "source": [
        "df.collect()[0]"
      ]
    },
    {
      "cell_type": "code",
      "execution_count": 12,
      "id": "76366899",
      "metadata": {
        "id": "76366899",
        "colab": {
          "base_uri": "https://localhost:8080/",
          "height": 520
        },
        "outputId": "8d83c448-ad33-4f6c-ad8f-842584adf2ef"
      },
      "outputs": [
        {
          "output_type": "execute_result",
          "data": {
            "text/plain": [
              "+---+--------------------+------+\n",
              "| id|                Text|Length|\n",
              "+---+--------------------+------+\n",
              "|  0|WASHINGTON (Reute...|  4659|\n",
              "|  1|WASHINGTON (Reute...|  4077|\n",
              "|  2|WASHINGTON (Reute...|  2789|\n",
              "|  3|WASHINGTON (Reute...|  2461|\n",
              "|  4|SEATTLE/WASHINGTO...|  5204|\n",
              "|  5|WEST PALM BEACH, ...|  3707|\n",
              "|  6|WEST PALM BEACH, ...|  3220|\n",
              "|  7|The following sta...|   856|\n",
              "|  8|The following sta...|   632|\n",
              "|  9|WASHINGTON (Reute...|   408|\n",
              "| 10|(Reuters) - Alaba...|  2373|\n",
              "| 11|NEW YORK/WASHINGT...|  3829|\n",
              "| 12|The following sta...|   599|\n",
              "| 13|\"The following st...|  1091|\n",
              "| 14| (In Dec. 25 stor...|  2112|\n",
              "| 15|(Reuters) - A lot...|  2732|\n",
              "| 16|WASHINGTON (Reute...|  4296|\n",
              "| 17|The following sta...|  1103|\n",
              "| 18|(Reuters) - A U.S...|  2504|\n",
              "| 19|(Reuters) - A gif...|  1260|\n",
              "+---+--------------------+------+\n",
              "only showing top 20 rows"
            ],
            "text/html": [
              "<table border='1'>\n",
              "<tr><th>id</th><th>Text</th><th>Length</th></tr>\n",
              "<tr><td>0</td><td>WASHINGTON (Reute...</td><td>4659</td></tr>\n",
              "<tr><td>1</td><td>WASHINGTON (Reute...</td><td>4077</td></tr>\n",
              "<tr><td>2</td><td>WASHINGTON (Reute...</td><td>2789</td></tr>\n",
              "<tr><td>3</td><td>WASHINGTON (Reute...</td><td>2461</td></tr>\n",
              "<tr><td>4</td><td>SEATTLE/WASHINGTO...</td><td>5204</td></tr>\n",
              "<tr><td>5</td><td>WEST PALM BEACH, ...</td><td>3707</td></tr>\n",
              "<tr><td>6</td><td>WEST PALM BEACH, ...</td><td>3220</td></tr>\n",
              "<tr><td>7</td><td>The following sta...</td><td>856</td></tr>\n",
              "<tr><td>8</td><td>The following sta...</td><td>632</td></tr>\n",
              "<tr><td>9</td><td>WASHINGTON (Reute...</td><td>408</td></tr>\n",
              "<tr><td>10</td><td>(Reuters) - Alaba...</td><td>2373</td></tr>\n",
              "<tr><td>11</td><td>NEW YORK/WASHINGT...</td><td>3829</td></tr>\n",
              "<tr><td>12</td><td>The following sta...</td><td>599</td></tr>\n",
              "<tr><td>13</td><td>&quot;The following st...</td><td>1091</td></tr>\n",
              "<tr><td>14</td><td> (In Dec. 25 stor...</td><td>2112</td></tr>\n",
              "<tr><td>15</td><td>(Reuters) - A lot...</td><td>2732</td></tr>\n",
              "<tr><td>16</td><td>WASHINGTON (Reute...</td><td>4296</td></tr>\n",
              "<tr><td>17</td><td>The following sta...</td><td>1103</td></tr>\n",
              "<tr><td>18</td><td>(Reuters) - A U.S...</td><td>2504</td></tr>\n",
              "<tr><td>19</td><td>(Reuters) - A gif...</td><td>1260</td></tr>\n",
              "</table>\n",
              "only showing top 20 rows\n"
            ]
          },
          "metadata": {},
          "execution_count": 12
        }
      ],
      "source": [
        "lengthDF = df.select(col(\"id\"),col(\"Text\"), length(col(\"Text\")).alias(\"Length\") )\n",
        "lengthDF"
      ]
    },
    {
      "cell_type": "code",
      "execution_count": 13,
      "id": "c071cfb7",
      "metadata": {
        "id": "c071cfb7",
        "colab": {
          "base_uri": "https://localhost:8080/",
          "height": 67
        },
        "outputId": "f6df673a-1037-4a65-c0db-8847fd37bf93"
      },
      "outputs": [
        {
          "output_type": "execute_result",
          "data": {
            "text/plain": [
              "+-----------+-------------------+\n",
              "|avg(Length)|stddev_samp(Length)|\n",
              "+-----------+-------------------+\n",
              "|    2388.97| 1696.2789775976355|\n",
              "+-----------+-------------------+"
            ],
            "text/html": [
              "<table border='1'>\n",
              "<tr><th>avg(Length)</th><th>stddev_samp(Length)</th></tr>\n",
              "<tr><td>2388.97</td><td>1696.2789775976355</td></tr>\n",
              "</table>\n"
            ]
          },
          "metadata": {},
          "execution_count": 13
        }
      ],
      "source": [
        "lengthDF.select(avg(\"Length\"),stddev(\"Length\"))"
      ]
    },
    {
      "cell_type": "markdown",
      "source": [
        "##Defining Functions"
      ],
      "metadata": {
        "id": "4EthgEDOon5-"
      },
      "id": "4EthgEDOon5-"
    },
    {
      "cell_type": "markdown",
      "id": "019f6dee",
      "metadata": {
        "id": "019f6dee"
      },
      "source": [
        "###Shingling"
      ]
    },
    {
      "cell_type": "markdown",
      "id": "cb7e99d1",
      "metadata": {
        "id": "cb7e99d1"
      },
      "source": [
        "#### Construct k–shingles"
      ]
    },
    {
      "cell_type": "code",
      "execution_count": 14,
      "id": "452098d1",
      "metadata": {
        "id": "452098d1"
      },
      "outputs": [],
      "source": [
        "def shingle_document(text,k):\n",
        "    length = len(text)\n",
        "    shingles = set()\n",
        "    i = 0\n",
        "    while i <= length - k:\n",
        "        shingles.add(text[i:i+k])\n",
        "        i+=1\n",
        "    return list(shingles)"
      ]
    },
    {
      "cell_type": "markdown",
      "id": "121b849e",
      "metadata": {
        "id": "121b849e"
      },
      "source": [
        "#### Compute shingling in a distributed way using Spark"
      ]
    },
    {
      "cell_type": "code",
      "execution_count": 15,
      "id": "ba703d7b",
      "metadata": {
        "id": "ba703d7b"
      },
      "outputs": [],
      "source": [
        "def shingling(df,k):\n",
        "    shingle_documentUDF = udf(lambda x: shingle_document(x,k), ArrayType(StringType(),False))\n",
        "    shingledDF = df.select(col(\"id\"),col(\"Text\"), shingle_documentUDF(col(\"Text\")).alias(\"Shinlings\") )\n",
        "    hashedDF = shingledDF.select(col(\"id\"),col(\"Text\"),col(\"Shinlings\"), transform(col(\"Shinlings\"), lambda x : pyspark.sql.functions.hash(x)).alias(\"Hashed\") )\n",
        "    return hashedDF"
      ]
    },
    {
      "cell_type": "markdown",
      "id": "43cf1b99",
      "metadata": {
        "id": "43cf1b99"
      },
      "source": [
        "###Jaccard Similarity"
      ]
    },
    {
      "cell_type": "markdown",
      "source": [
        "Compute the jaccard similarity of two sets of hashed shingles by using the spark built-in union and intersection operations.\n",
        "\n",
        "The join is made between the hashed k–shingles Dataframe and its copy.\n",
        "The condition \"<\" is needed to eliminate rows with the same id pair."
      ],
      "metadata": {
        "id": "Jll4F7HNp7ZV"
      },
      "id": "Jll4F7HNp7ZV"
    },
    {
      "cell_type": "code",
      "execution_count": 16,
      "id": "f678555f",
      "metadata": {
        "id": "f678555f"
      },
      "outputs": [],
      "source": [
        "def compareSets(hashedDF):\n",
        "    hashedDF_copied = hashedDF.withColumn(\"HashedCopy\",col(\"Hashed\"))\n",
        "    hashedDF_copied = hashedDF_copied.withColumn(\"idCopy\",col(\"id\"))\n",
        "    a = hashedDF_copied.select(col(\"id\"),col(\"Hashed\"))\n",
        "    b = hashedDF_copied.select(col(\"idCopy\"),col(\"HashedCopy\"))\n",
        "    joinedDF = a.join(b, a.id < b.idCopy)\n",
        "    jaccardDF = joinedDF.select(col(\"id\"),col(\"idCopy\"), (size(array_intersect(col(\"Hashed\"),col(\"HashedCopy\")))/size(array_union(col(\"Hashed\"),col(\"HashedCopy\")))).alias(\"Jaccard\"))\n",
        "    jaccardDF = jaccardDF.sort(col(\"Jaccard\").desc())\n",
        "    return jaccardDF"
      ]
    },
    {
      "cell_type": "markdown",
      "id": "61bc87fb",
      "metadata": {
        "id": "61bc87fb"
      },
      "source": [
        "### MinHashing"
      ]
    },
    {
      "cell_type": "markdown",
      "source": [
        "####Create the minHash signature"
      ],
      "metadata": {
        "id": "XHcZAhbyqepB"
      },
      "id": "XHcZAhbyqepB"
    },
    {
      "cell_type": "markdown",
      "id": "b62dc39d",
      "metadata": {
        "id": "b62dc39d"
      },
      "source": [
        "This function builds a minHash signature of a document  (in the form of a vector or a set) of a given length n from a given set of integers (a set of hashed shingles).<br>\n"
      ]
    },
    {
      "cell_type": "code",
      "execution_count": 17,
      "id": "24291717",
      "metadata": {
        "id": "24291717"
      },
      "outputs": [],
      "source": [
        "def minHashing_document(hashed,a,b,n):\n",
        "    minHashed = []\n",
        "    for i,j in zip(a,b):\n",
        "        minimum = (hashed[0]*(i+1) + j+1) % n\n",
        "        index = 0\n",
        "        z = 1\n",
        "        lenght = len(hashed)\n",
        "        while z < lenght:\n",
        "            hashElem = (hashed[z]*(i+1) + j+1) % n\n",
        "            if hashElem < minimum:\n",
        "                minimum = hashElem\n",
        "                index = z\n",
        "            z+=1\n",
        "        minHashed.append(hashed[index])\n",
        "    return minHashed"
      ]
    },
    {
      "cell_type": "markdown",
      "source": [
        "####Apply MinHashing in a distributed way using Spark"
      ],
      "metadata": {
        "id": "g92DLZjtrHRa"
      },
      "id": "g92DLZjtrHRa"
    },
    {
      "cell_type": "markdown",
      "id": "aa75ffaa",
      "metadata": {
        "id": "aa75ffaa"
      },
      "source": [
        "In order to generate N independent hash functions with the form h(x)= (ax + b) % c random numbers are generated."
      ]
    },
    {
      "cell_type": "code",
      "execution_count": 18,
      "id": "42d90b16",
      "metadata": {
        "id": "42d90b16"
      },
      "outputs": [],
      "source": [
        "def minHashing(hashedShingledDf,n):\n",
        "    a = []\n",
        "    b = []\n",
        "    for t in range(n):\n",
        "        a.append(random.randint(-n,n))\n",
        "        b.append(random.randint(-n,n))\n",
        "    minHashing_documentUDF = udf(lambda x: minHashing_document(x,a,b,n),ArrayType(IntegerType(),False)) \n",
        "    minHashedDF = hashedShingledDf.select(col(\"id\"), minHashing_documentUDF(col(\"Hashed\")).alias(\"minHashed\") )\n",
        "    return minHashedDF"
      ]
    },
    {
      "cell_type": "markdown",
      "id": "098f5eec",
      "metadata": {
        "id": "098f5eec"
      },
      "source": [
        "#### Estimate the similarity of two integer vectors (minhash signatures) as a fraction of components in which they agree"
      ]
    },
    {
      "cell_type": "code",
      "execution_count": 19,
      "id": "b29319db",
      "metadata": {
        "id": "b29319db"
      },
      "outputs": [],
      "source": [
        "def compareSignatures_documents(list1,list2):\n",
        "    count = 0\n",
        "    length = len(set(list1))\n",
        "    for i in range(length):\n",
        "        if list1[i] == list2[i]:\n",
        "            count+=1\n",
        "    return count/length"
      ]
    },
    {
      "cell_type": "markdown",
      "id": "f7e96ac6",
      "metadata": {
        "id": "f7e96ac6"
      },
      "source": [
        "#### Compute the minHashing similarity in a distributed way using Spark\n",
        "The join is made between the hashed k–shingles Dataframe and its copy.\n",
        "The condition \"<\" is needed to eliminate rows with the same id pair."
      ]
    },
    {
      "cell_type": "code",
      "execution_count": 20,
      "id": "488970d8",
      "metadata": {
        "id": "488970d8"
      },
      "outputs": [],
      "source": [
        "def compareSignatures(minHashedDF):\n",
        "    minHashedDF_copied = minHashedDF.withColumn(\"minHashedCopy\",col(\"minHashed\"))\n",
        "    minHashedDF_copied = minHashedDF_copied.withColumn(\"idCopy\",col(\"id\"))\n",
        "    minA = minHashedDF_copied.select(col(\"id\"),col(\"minHashed\"))\n",
        "    minB = minHashedDF_copied.select(col(\"idCopy\"),col(\"minHashedCopy\"))\n",
        "    minJoinedDF = minA.join(minB, minA.id < minB.idCopy)\n",
        "    compareSignatures_documentsUDF = udf(lambda x,y :compareSignatures_documents(x,y),FloatType()) \n",
        "    compareSignaturesDF = minJoinedDF.select(col(\"id\"),col(\"idCopy\"), compareSignatures_documentsUDF(col(\"minHashed\"),col(\"minHashedCopy\")).alias(\"Compared_Min_Hashed\") )\n",
        "    compareSignaturesDF = compareSignaturesDF.withColumnRenamed(\"idCopy\",\"id_2\")\n",
        "    compareSignaturesDF = compareSignaturesDF.sort(col(\"Compared_Min_Hashed\").desc())\n",
        "    return compareSignaturesDF"
      ]
    },
    {
      "cell_type": "markdown",
      "id": "ad1b5af0",
      "metadata": {
        "id": "ad1b5af0"
      },
      "source": [
        "### LHS"
      ]
    },
    {
      "cell_type": "markdown",
      "source": [
        "Given a collection of minhash signatures and a similarity threshold t, by using banding and hashing find candidate pairs of signatures agreeing on at least a fraction t of their components."
      ],
      "metadata": {
        "id": "ky8SkyUBnb5q"
      },
      "id": "ky8SkyUBnb5q"
    },
    {
      "cell_type": "code",
      "execution_count": 21,
      "id": "4594b0ea",
      "metadata": {
        "id": "4594b0ea"
      },
      "outputs": [],
      "source": [
        "def LSH(minHashedDF,threshold,n,b):\n",
        "    r = int(n/b)\n",
        "    aggregatedList = []\n",
        "    for i in range(b):\n",
        "      \n",
        "      bandDF = minHashedDF.select(col(\"id\"),pyspark.sql.functions.hash(pyspark.sql.functions.slice(col(\"MinHashed\"),i*r+1,r)).alias(\"Bucket_Band\"))\n",
        "      #create a dataframe where columns are document ids and bucked band which is the corresponding bucket for band i. rows are different documents\n",
        "      aggregatedDF = bandDF.select(col(\"id\"),col(\"Bucket_Band\")).groupby(\"Bucket_Band\").agg(collect_set(col(\"id\")))\n",
        "      aggregatedDF = aggregatedDF.withColumnRenamed(\"collect_set(id)\",\"Collected_id\")\n",
        "      #aggregate the previous dataframe based on the bucket band: columns are bucket for band i and the corresponding documents ids in a list\n",
        "      \n",
        "      countedBuckets = aggregatedDF.select(col(\"Collected_id\"),size(col(\"Collected_id\")).alias(\"Counted\"))\n",
        "      # the list of ids of the previous dataset is counted\n",
        "\n",
        "      countedFilteredBuckets = countedBuckets.filter(col(\"Counted\")>1)\n",
        "      # the previous dataset is filtered, now there is just a list of lists of ids that have been matched together in the band i\n",
        "      aggregatedList.append(countedFilteredBuckets.select(col(\"Collected_id\")).collect())\n",
        "\n",
        "# the lists for each band are merged together\n",
        "    toCompareAggregated = []\n",
        "    for elem in aggregatedList:\n",
        "      for row in elem:\n",
        "        toCompareAggregated.append(row.Collected_id)\n",
        "\n",
        "# couples are created inside a list of the same bucket\n",
        "# there is no repetition in couples\n",
        "    compareSet = set()\n",
        "    compareList = []\n",
        "    for i in range(len(toCompareAggregated)):\n",
        "      for j in range(len(toCompareAggregated[i])):\n",
        "        for t in range(len(toCompareAggregated[i])):\n",
        "          if j != t:\n",
        "            value = [toCompareAggregated[i][j],toCompareAggregated[i][t]]\n",
        "            value.sort()\n",
        "            valueSet = \"\"\n",
        "            for x in value:\n",
        "                valueSet +=\",\"+ str(x)\n",
        "            toAddSet = set()\n",
        "            toAddSet.add(valueSet)\n",
        "            if len(compareSet.intersection(toAddSet))==0:\n",
        "                compareSet.add(valueSet)\n",
        "                compareList.append(value)\n",
        "\n",
        "    schema = StructType([\n",
        "      StructField('id', IntegerType(), True),\n",
        "      StructField('id_2', IntegerType(), True),\n",
        "        StructField('Compared_Min_Hashed', IntegerType(), True)\n",
        "      ])\n",
        "    \n",
        "    unitedLSH = spark.createDataFrame([],schema = schema)\n",
        "    compareSignatures_documentsUDF = udf(lambda x,y :compareSignatures_documents(x,y),FloatType()) \n",
        "\n",
        "# matched pairs are retrieved from the minHashedDF, then they are compared and filtered if their minhashing similarity is higher than the treshold\n",
        "    for pair in compareList:\n",
        "        df1 = minHashedDF.filter(minHashedDF.id ==pair[0])\n",
        "        df1 = df1.select(col(\"id\"),col(\"minHashed\"))\n",
        "        df2 = minHashedDF.filter(minHashedDF.id ==pair[1])\n",
        "        df2 = df2.select(col(\"id\"),col(\"minHashed\"))\n",
        "        for column in df2.columns:\n",
        "            df2 = df2.withColumnRenamed(column,column +\"_2\")\n",
        "        toCompareDf = df1.join(df2)\n",
        "        comparedLSH = toCompareDf.select(col(\"id\"),col(\"id_2\"), compareSignatures_documentsUDF(col(\"minHashed\"),col(\"minHashed_2\")).alias(\"Compared_Min_Hashed\") )\n",
        "        comparedLSH = comparedLSH.filter(comparedLSH.Compared_Min_Hashed>threshold)\n",
        "        unitedLSH = unitedLSH.union(comparedLSH)\n",
        "   \n",
        "    \n",
        "\n",
        "    \n",
        "    return unitedLSH.sort(col(\"Compared_Min_Hashed\").desc())"
      ]
    },
    {
      "cell_type": "markdown",
      "source": [
        "## Computation"
      ],
      "metadata": {
        "id": "-RamLH1Nojgf"
      },
      "id": "-RamLH1Nojgf"
    },
    {
      "cell_type": "markdown",
      "source": [
        "###Shingling"
      ],
      "metadata": {
        "id": "7KIwhaJCrtRX"
      },
      "id": "7KIwhaJCrtRX"
    },
    {
      "cell_type": "code",
      "execution_count": 22,
      "id": "0e24f7ee",
      "metadata": {
        "id": "0e24f7ee",
        "colab": {
          "base_uri": "https://localhost:8080/",
          "height": 520
        },
        "outputId": "7930f44b-29d1-447c-b9ef-18542f970706"
      },
      "outputs": [
        {
          "output_type": "execute_result",
          "data": {
            "text/plain": [
              "+---+--------------------+--------------------+--------------------+\n",
              "| id|                Text|           Shinlings|              Hashed|\n",
              "+---+--------------------+--------------------+--------------------+\n",
              "|  0|WASHINGTON (Reute...|[but i,  alre, e,...|[1244577784, -160...|\n",
              "|  1|WASHINGTON (Reute...|[ertie, leasi, te...|[-1607862240, -86...|\n",
              "|  2|WASHINGTON (Reute...|[lusio, te ar, es...|[1431990426, 3691...|\n",
              "|  3|WASHINGTON (Reute...|[lusio, he ne,  b...|[1431990426, -120...|\n",
              "|  4|SEATTLE/WASHINGTO...|[Danie, he ne, te...|[-627188978, -120...|\n",
              "|  5|WEST PALM BEACH, ...|[he ne, easur, as...|[-1204182643, -30...|\n",
              "|  6|WEST PALM BEACH, ...|[lusio,  bala, le...|[1431990426, -184...|\n",
              "|  7|The following sta...|[the s, azon , ed...|[159738562, -1037...|\n",
              "|  8|The following sta...|[ng to, the s, AR...|[1654488342, 1597...|\n",
              "|  9|WASHINGTON (Reute...|[ly lo, te el,  c...|[553107339, 19217...|\n",
              "| 10|(Reuters) - Alaba...|[ted m, arsha, r ...|[976797235, 15852...|\n",
              "| 11|NEW YORK/WASHINGT...|[he ne, eek, , es...|[-1204182643, -60...|\n",
              "| 12|The following sta...|[the s, air, , d ...|[159738562, 67075...|\n",
              "| 13|\"The following st...|[the s, ach F, d ...|[159738562, 20320...|\n",
              "| 14| (In Dec. 25 stor...|[veway, easur, he...|[-619073360, -302...|\n",
              "| 15|(Reuters) - A lot...|[ever-,  bala, he...|[1055478961, -184...|\n",
              "| 16|WASHINGTON (Reute...|[lusio, now w, ra...|[1431990426, -265...|\n",
              "| 17|The following sta...|[air a, the s, r....|[-188630671, 1597...|\n",
              "| 18|(Reuters) - A U.S...|[air, , easur, te...|[67075527, -30243...|\n",
              "| 19|(Reuters) - A gif...|[veway, ng to,  b...|[-619073360, 1654...|\n",
              "+---+--------------------+--------------------+--------------------+\n",
              "only showing top 20 rows"
            ],
            "text/html": [
              "<table border='1'>\n",
              "<tr><th>id</th><th>Text</th><th>Shinlings</th><th>Hashed</th></tr>\n",
              "<tr><td>0</td><td>WASHINGTON (Reute...</td><td>[but i,  alre, e,...</td><td>[1244577784, -160...</td></tr>\n",
              "<tr><td>1</td><td>WASHINGTON (Reute...</td><td>[ertie, leasi, te...</td><td>[-1607862240, -86...</td></tr>\n",
              "<tr><td>2</td><td>WASHINGTON (Reute...</td><td>[lusio, te ar, es...</td><td>[1431990426, 3691...</td></tr>\n",
              "<tr><td>3</td><td>WASHINGTON (Reute...</td><td>[lusio, he ne,  b...</td><td>[1431990426, -120...</td></tr>\n",
              "<tr><td>4</td><td>SEATTLE/WASHINGTO...</td><td>[Danie, he ne, te...</td><td>[-627188978, -120...</td></tr>\n",
              "<tr><td>5</td><td>WEST PALM BEACH, ...</td><td>[he ne, easur, as...</td><td>[-1204182643, -30...</td></tr>\n",
              "<tr><td>6</td><td>WEST PALM BEACH, ...</td><td>[lusio,  bala, le...</td><td>[1431990426, -184...</td></tr>\n",
              "<tr><td>7</td><td>The following sta...</td><td>[the s, azon , ed...</td><td>[159738562, -1037...</td></tr>\n",
              "<tr><td>8</td><td>The following sta...</td><td>[ng to, the s, AR...</td><td>[1654488342, 1597...</td></tr>\n",
              "<tr><td>9</td><td>WASHINGTON (Reute...</td><td>[ly lo, te el,  c...</td><td>[553107339, 19217...</td></tr>\n",
              "<tr><td>10</td><td>(Reuters) - Alaba...</td><td>[ted m, arsha, r ...</td><td>[976797235, 15852...</td></tr>\n",
              "<tr><td>11</td><td>NEW YORK/WASHINGT...</td><td>[he ne, eek, , es...</td><td>[-1204182643, -60...</td></tr>\n",
              "<tr><td>12</td><td>The following sta...</td><td>[the s, air, , d ...</td><td>[159738562, 67075...</td></tr>\n",
              "<tr><td>13</td><td>&quot;The following st...</td><td>[the s, ach F, d ...</td><td>[159738562, 20320...</td></tr>\n",
              "<tr><td>14</td><td> (In Dec. 25 stor...</td><td>[veway, easur, he...</td><td>[-619073360, -302...</td></tr>\n",
              "<tr><td>15</td><td>(Reuters) - A lot...</td><td>[ever-,  bala, he...</td><td>[1055478961, -184...</td></tr>\n",
              "<tr><td>16</td><td>WASHINGTON (Reute...</td><td>[lusio, now w, ra...</td><td>[1431990426, -265...</td></tr>\n",
              "<tr><td>17</td><td>The following sta...</td><td>[air a, the s, r....</td><td>[-188630671, 1597...</td></tr>\n",
              "<tr><td>18</td><td>(Reuters) - A U.S...</td><td>[air, , easur, te...</td><td>[67075527, -30243...</td></tr>\n",
              "<tr><td>19</td><td>(Reuters) - A gif...</td><td>[veway, ng to,  b...</td><td>[-619073360, 1654...</td></tr>\n",
              "</table>\n",
              "only showing top 20 rows\n"
            ]
          },
          "metadata": {},
          "execution_count": 22
        }
      ],
      "source": [
        "shingle_size = 5\n",
        "df.cache()\n",
        "start = time.time()\n",
        "hashedShingledDf = shingling(df,shingle_size)\n",
        "hashedShingledDf"
      ]
    },
    {
      "cell_type": "code",
      "execution_count": 23,
      "id": "7663c5e1",
      "metadata": {
        "id": "7663c5e1",
        "colab": {
          "base_uri": "https://localhost:8080/"
        },
        "outputId": "fc6ba804-4f47-4d60-bd2d-02a6da748b4c"
      },
      "outputs": [
        {
          "output_type": "stream",
          "name": "stdout",
          "text": [
            "The shingling operation lasted:  5.464529991149902\n"
          ]
        }
      ],
      "source": [
        "duration = time.time() - start\n",
        "print(\"The shingling operation lasted: \", duration)"
      ]
    },
    {
      "cell_type": "markdown",
      "source": [
        "###Compare sets with Jaccard Similarity"
      ],
      "metadata": {
        "id": "OqOu1uBSry3l"
      },
      "id": "OqOu1uBSry3l"
    },
    {
      "cell_type": "code",
      "execution_count": 24,
      "id": "b6257b26",
      "metadata": {
        "id": "b6257b26",
        "colab": {
          "base_uri": "https://localhost:8080/",
          "height": 520
        },
        "outputId": "9e886899-45d8-4985-9fc5-b8b6e41fb4a4"
      },
      "outputs": [
        {
          "output_type": "execute_result",
          "data": {
            "text/plain": [
              "+---+------+-------------------+\n",
              "| id|idCopy|            Jaccard|\n",
              "+---+------+-------------------+\n",
              "|416|   445|                1.0|\n",
              "|247|   250|                1.0|\n",
              "|165|   166|                1.0|\n",
              "|427|   466| 0.9798270893371758|\n",
              "| 71|   109| 0.8699612844454566|\n",
              "|143|   166| 0.7932651321398124|\n",
              "|143|   165| 0.7932651321398124|\n",
              "|241|   256| 0.5929561200923787|\n",
              "|310|   330| 0.5144092219020173|\n",
              "| 53|    57| 0.4394014962593516|\n",
              "| 22|   285| 0.4358974358974359|\n",
              "|172|   198|0.42722017866526535|\n",
              "| 37|    81| 0.4116068433411607|\n",
              "|360|   382|0.40519930675909877|\n",
              "|239|   261|0.38725624828343863|\n",
              "|219|   472| 0.3772171856523453|\n",
              "| 12|   453| 0.3675675675675676|\n",
              "|145|   241| 0.3638992152003304|\n",
              "|  8|   453|0.35910878112712974|\n",
              "|284|   453|0.35723598435462844|\n",
              "+---+------+-------------------+\n",
              "only showing top 20 rows"
            ],
            "text/html": [
              "<table border='1'>\n",
              "<tr><th>id</th><th>idCopy</th><th>Jaccard</th></tr>\n",
              "<tr><td>416</td><td>445</td><td>1.0</td></tr>\n",
              "<tr><td>247</td><td>250</td><td>1.0</td></tr>\n",
              "<tr><td>165</td><td>166</td><td>1.0</td></tr>\n",
              "<tr><td>427</td><td>466</td><td>0.9798270893371758</td></tr>\n",
              "<tr><td>71</td><td>109</td><td>0.8699612844454566</td></tr>\n",
              "<tr><td>143</td><td>166</td><td>0.7932651321398124</td></tr>\n",
              "<tr><td>143</td><td>165</td><td>0.7932651321398124</td></tr>\n",
              "<tr><td>241</td><td>256</td><td>0.5929561200923787</td></tr>\n",
              "<tr><td>310</td><td>330</td><td>0.5144092219020173</td></tr>\n",
              "<tr><td>53</td><td>57</td><td>0.4394014962593516</td></tr>\n",
              "<tr><td>22</td><td>285</td><td>0.4358974358974359</td></tr>\n",
              "<tr><td>172</td><td>198</td><td>0.42722017866526535</td></tr>\n",
              "<tr><td>37</td><td>81</td><td>0.4116068433411607</td></tr>\n",
              "<tr><td>360</td><td>382</td><td>0.40519930675909877</td></tr>\n",
              "<tr><td>239</td><td>261</td><td>0.38725624828343863</td></tr>\n",
              "<tr><td>219</td><td>472</td><td>0.3772171856523453</td></tr>\n",
              "<tr><td>12</td><td>453</td><td>0.3675675675675676</td></tr>\n",
              "<tr><td>145</td><td>241</td><td>0.3638992152003304</td></tr>\n",
              "<tr><td>8</td><td>453</td><td>0.35910878112712974</td></tr>\n",
              "<tr><td>284</td><td>453</td><td>0.35723598435462844</td></tr>\n",
              "</table>\n",
              "only showing top 20 rows\n"
            ]
          },
          "metadata": {},
          "execution_count": 24
        }
      ],
      "source": [
        "hashedShingledDf.cache()\n",
        "start = time.time()\n",
        "comparedJaccard = compareSets(hashedShingledDf)\n",
        "comparedJaccard"
      ]
    },
    {
      "cell_type": "code",
      "execution_count": 25,
      "id": "229d230f",
      "metadata": {
        "id": "229d230f",
        "colab": {
          "base_uri": "https://localhost:8080/"
        },
        "outputId": "a52913ee-11d3-454d-e415-4982d0110dda"
      },
      "outputs": [
        {
          "output_type": "stream",
          "name": "stdout",
          "text": [
            "The Jaccard Comparison lasted:  122.135737657547\n"
          ]
        }
      ],
      "source": [
        "duration = time.time() - start\n",
        "print(\"The Jaccard Comparison lasted: \", duration)"
      ]
    },
    {
      "cell_type": "markdown",
      "source": [
        "###Create MinHash signatures"
      ],
      "metadata": {
        "id": "32uuNX_dr6sW"
      },
      "id": "32uuNX_dr6sW"
    },
    {
      "cell_type": "code",
      "execution_count": 26,
      "id": "fd5bcc67",
      "metadata": {
        "id": "fd5bcc67",
        "colab": {
          "base_uri": "https://localhost:8080/",
          "height": 520
        },
        "outputId": "247669c1-c7e3-467f-d445-d51a7f901a6f"
      },
      "outputs": [
        {
          "output_type": "execute_result",
          "data": {
            "text/plain": [
              "+---+--------------------+\n",
              "| id|           minHashed|\n",
              "+---+--------------------+\n",
              "|  0|[930130723, -2096...|\n",
              "|  1|[-863593677, 1346...|\n",
              "|  2|[930130723, 83520...|\n",
              "|  3|[-456994077, 8432...|\n",
              "|  4|[1525272523, -209...|\n",
              "|  5|[-1829045977, -20...|\n",
              "|  6|[-1847266427, 185...|\n",
              "|  7|[-800471452, 1148...|\n",
              "|  8|[310317073, 11483...|\n",
              "|  9|[757126123, 84565...|\n",
              "| 10|[1505181373, -169...|\n",
              "| 11|[473072798, 38178...|\n",
              "| 12|[-1911978302, 114...|\n",
              "| 13|[-1911978302, -20...|\n",
              "| 14|[-1001688952, -15...|\n",
              "| 15|[-1847266427, -20...|\n",
              "| 16|[1186953348, 1175...|\n",
              "| 17|[135608073, -1413...|\n",
              "| 18|[-666951027, -121...|\n",
              "| 19|[-1066993352, 888...|\n",
              "+---+--------------------+\n",
              "only showing top 20 rows"
            ],
            "text/html": [
              "<table border='1'>\n",
              "<tr><th>id</th><th>minHashed</th></tr>\n",
              "<tr><td>0</td><td>[930130723, -2096...</td></tr>\n",
              "<tr><td>1</td><td>[-863593677, 1346...</td></tr>\n",
              "<tr><td>2</td><td>[930130723, 83520...</td></tr>\n",
              "<tr><td>3</td><td>[-456994077, 8432...</td></tr>\n",
              "<tr><td>4</td><td>[1525272523, -209...</td></tr>\n",
              "<tr><td>5</td><td>[-1829045977, -20...</td></tr>\n",
              "<tr><td>6</td><td>[-1847266427, 185...</td></tr>\n",
              "<tr><td>7</td><td>[-800471452, 1148...</td></tr>\n",
              "<tr><td>8</td><td>[310317073, 11483...</td></tr>\n",
              "<tr><td>9</td><td>[757126123, 84565...</td></tr>\n",
              "<tr><td>10</td><td>[1505181373, -169...</td></tr>\n",
              "<tr><td>11</td><td>[473072798, 38178...</td></tr>\n",
              "<tr><td>12</td><td>[-1911978302, 114...</td></tr>\n",
              "<tr><td>13</td><td>[-1911978302, -20...</td></tr>\n",
              "<tr><td>14</td><td>[-1001688952, -15...</td></tr>\n",
              "<tr><td>15</td><td>[-1847266427, -20...</td></tr>\n",
              "<tr><td>16</td><td>[1186953348, 1175...</td></tr>\n",
              "<tr><td>17</td><td>[135608073, -1413...</td></tr>\n",
              "<tr><td>18</td><td>[-666951027, -121...</td></tr>\n",
              "<tr><td>19</td><td>[-1066993352, 888...</td></tr>\n",
              "</table>\n",
              "only showing top 20 rows\n"
            ]
          },
          "metadata": {},
          "execution_count": 26
        }
      ],
      "source": [
        "num_minHash = 100\n",
        "start = time.time()\n",
        "minHashedDf = minHashing(hashedShingledDf, num_minHash)\n",
        "minHashedDf"
      ]
    },
    {
      "cell_type": "code",
      "execution_count": 27,
      "id": "fb89e2a4",
      "metadata": {
        "id": "fb89e2a4",
        "colab": {
          "base_uri": "https://localhost:8080/"
        },
        "outputId": "288afdab-c1c4-44c0-e6a1-81b7070b819f"
      },
      "outputs": [
        {
          "output_type": "stream",
          "name": "stdout",
          "text": [
            "The MinHashing operation lasted:  40.056694746017456\n"
          ]
        }
      ],
      "source": [
        "duration = time.time() - start\n",
        "print(\"The MinHashing operation lasted: \", duration)"
      ]
    },
    {
      "cell_type": "markdown",
      "source": [
        "###Compare MinHash signatures"
      ],
      "metadata": {
        "id": "lC5LayfosAI7"
      },
      "id": "lC5LayfosAI7"
    },
    {
      "cell_type": "code",
      "execution_count": 28,
      "id": "844158d4",
      "metadata": {
        "id": "844158d4",
        "colab": {
          "base_uri": "https://localhost:8080/",
          "height": 520
        },
        "outputId": "fede70bb-d70e-490c-aad0-73667dc28f3e"
      },
      "outputs": [
        {
          "output_type": "execute_result",
          "data": {
            "text/plain": [
              "+---+----+-------------------+\n",
              "| id|id_2|Compared_Min_Hashed|\n",
              "+---+----+-------------------+\n",
              "|416| 445|                1.0|\n",
              "|247| 250|                1.0|\n",
              "|165| 166|                1.0|\n",
              "|427| 466|         0.94545454|\n",
              "| 71| 109|         0.76363635|\n",
              "|143| 166|          0.7368421|\n",
              "|143| 165|          0.7368421|\n",
              "|241| 256|          0.6226415|\n",
              "|310| 330|                0.5|\n",
              "|145| 241|                0.5|\n",
              "|145| 256|                0.5|\n",
              "|  7| 308|         0.49122807|\n",
              "| 12| 308|         0.49056605|\n",
              "| 12| 453|         0.49056605|\n",
              "|284| 453|         0.48214287|\n",
              "|219| 472|         0.47272727|\n",
              "|261| 415|         0.46153846|\n",
              "| 22| 285|         0.43396226|\n",
              "| 41| 145|         0.42857143|\n",
              "|108| 216|         0.42592594|\n",
              "+---+----+-------------------+\n",
              "only showing top 20 rows"
            ],
            "text/html": [
              "<table border='1'>\n",
              "<tr><th>id</th><th>id_2</th><th>Compared_Min_Hashed</th></tr>\n",
              "<tr><td>416</td><td>445</td><td>1.0</td></tr>\n",
              "<tr><td>247</td><td>250</td><td>1.0</td></tr>\n",
              "<tr><td>165</td><td>166</td><td>1.0</td></tr>\n",
              "<tr><td>427</td><td>466</td><td>0.94545454</td></tr>\n",
              "<tr><td>71</td><td>109</td><td>0.76363635</td></tr>\n",
              "<tr><td>143</td><td>166</td><td>0.7368421</td></tr>\n",
              "<tr><td>143</td><td>165</td><td>0.7368421</td></tr>\n",
              "<tr><td>241</td><td>256</td><td>0.6226415</td></tr>\n",
              "<tr><td>310</td><td>330</td><td>0.5</td></tr>\n",
              "<tr><td>145</td><td>241</td><td>0.5</td></tr>\n",
              "<tr><td>145</td><td>256</td><td>0.5</td></tr>\n",
              "<tr><td>7</td><td>308</td><td>0.49122807</td></tr>\n",
              "<tr><td>12</td><td>308</td><td>0.49056605</td></tr>\n",
              "<tr><td>12</td><td>453</td><td>0.49056605</td></tr>\n",
              "<tr><td>284</td><td>453</td><td>0.48214287</td></tr>\n",
              "<tr><td>219</td><td>472</td><td>0.47272727</td></tr>\n",
              "<tr><td>261</td><td>415</td><td>0.46153846</td></tr>\n",
              "<tr><td>22</td><td>285</td><td>0.43396226</td></tr>\n",
              "<tr><td>41</td><td>145</td><td>0.42857143</td></tr>\n",
              "<tr><td>108</td><td>216</td><td>0.42592594</td></tr>\n",
              "</table>\n",
              "only showing top 20 rows\n"
            ]
          },
          "metadata": {},
          "execution_count": 28
        }
      ],
      "source": [
        "minHashedDf.cache()\n",
        "start = time.time()\n",
        "comparedMinHashedDF = compareSignatures(minHashedDf)\n",
        "comparedMinHashedDF"
      ]
    },
    {
      "cell_type": "code",
      "execution_count": 29,
      "id": "1b6a6a89",
      "metadata": {
        "id": "1b6a6a89",
        "colab": {
          "base_uri": "https://localhost:8080/"
        },
        "outputId": "3346b301-d70f-4176-e8a5-aae50dc794f9"
      },
      "outputs": [
        {
          "output_type": "stream",
          "name": "stdout",
          "text": [
            "The MinHashing Comparison operation lasted:  53.795021533966064\n"
          ]
        }
      ],
      "source": [
        "duration = time.time() - start\n",
        "print(\"The MinHashing Comparison operation lasted: \", duration)"
      ]
    },
    {
      "cell_type": "markdown",
      "source": [
        "###LSH"
      ],
      "metadata": {
        "id": "3Kx-_UMLsDjz"
      },
      "id": "3Kx-_UMLsDjz"
    },
    {
      "cell_type": "code",
      "execution_count": 30,
      "id": "5d722d7b",
      "metadata": {
        "id": "5d722d7b",
        "colab": {
          "base_uri": "https://localhost:8080/",
          "height": 135
        },
        "outputId": "c3c99244-88a2-4841-a5c1-dd96baabaf2c"
      },
      "outputs": [
        {
          "output_type": "execute_result",
          "data": {
            "text/plain": [
              "+---+----+-------------------+\n",
              "| id|id_2|Compared_Min_Hashed|\n",
              "+---+----+-------------------+\n",
              "|416| 445|                1.0|\n",
              "|247| 250|                1.0|\n",
              "|165| 166|                1.0|\n",
              "|427| 466|         0.94545454|\n",
              "+---+----+-------------------+"
            ],
            "text/html": [
              "<table border='1'>\n",
              "<tr><th>id</th><th>id_2</th><th>Compared_Min_Hashed</th></tr>\n",
              "<tr><td>416</td><td>445</td><td>1.0</td></tr>\n",
              "<tr><td>247</td><td>250</td><td>1.0</td></tr>\n",
              "<tr><td>165</td><td>166</td><td>1.0</td></tr>\n",
              "<tr><td>427</td><td>466</td><td>0.94545454</td></tr>\n",
              "</table>\n"
            ]
          },
          "metadata": {},
          "execution_count": 30
        }
      ],
      "source": [
        "threshold = 0.8\n",
        "num_bands = 10\n",
        "start = time.time()\n",
        "lshDF = LSH(minHashedDf,threshold,num_minHash,num_bands)\n",
        "lshDF"
      ]
    },
    {
      "cell_type": "code",
      "execution_count": 31,
      "id": "e6ab4f7e",
      "metadata": {
        "id": "e6ab4f7e",
        "colab": {
          "base_uri": "https://localhost:8080/"
        },
        "outputId": "d930fee6-6c74-44c9-b8a1-81bfac244bf3"
      },
      "outputs": [
        {
          "output_type": "stream",
          "name": "stdout",
          "text": [
            "The LSH Comparison operation lasted:  12.567373752593994\n"
          ]
        }
      ],
      "source": [
        "duration = time.time() - start\n",
        "print(\"The LSH Comparison operation lasted: \", duration)"
      ]
    },
    {
      "cell_type": "markdown",
      "id": "23fbf075",
      "metadata": {
        "id": "23fbf075"
      },
      "source": [
        "## Performance Analysis"
      ]
    },
    {
      "cell_type": "markdown",
      "source": [
        "Comparisons have been performed according to document size, number of MinHashed shingles and band size."
      ],
      "metadata": {
        "id": "sJMpy2gvnuRe"
      },
      "id": "sJMpy2gvnuRe"
    },
    {
      "cell_type": "markdown",
      "id": "f1625e21",
      "metadata": {
        "id": "f1625e21"
      },
      "source": [
        "### Computing performance"
      ]
    },
    {
      "cell_type": "code",
      "execution_count": 32,
      "id": "c1bc7a3f",
      "metadata": {
        "id": "c1bc7a3f"
      },
      "outputs": [],
      "source": [
        "document_size = [100,500,1000]\n",
        "band_size = [5,10,20]\n",
        "shingle_size = 5\n",
        "num_minHash = 100\n",
        "threshold = 0.8\n",
        "num_minHash_list = [50,100,200,400]\n",
        "num_bands = 10\n",
        "time_jaccard = []\n",
        "time_minHashing = []\n",
        "time_lsh = []\n",
        "count_jaccard = []\n",
        "count_minHashing = []\n",
        "count_lsh = []\n",
        "time_minHashing_num = []\n",
        "time_lsh_minHashing_num = []\n",
        "count_minHashing_num = []\n",
        "count_lsh_minHashing_num = []\n",
        "time_band = []\n",
        "count_band = []"
      ]
    },
    {
      "cell_type": "code",
      "execution_count": 33,
      "id": "d9a3befb",
      "metadata": {
        "id": "d9a3befb"
      },
      "outputs": [],
      "source": [
        "for elem in document_size:\n",
        "  df = spark.read.csv(\"News/True.csv\",header=True).limit(elem)\n",
        "  df = df.withColumn(\"id\", monotonically_increasing_id())\n",
        "  df = df.withColumnRenamed(\"text\",\"Text\")\n",
        "  hashedShingledDf = shingling(df,shingle_size)\n",
        "  hashedShingledDf.cache()\n",
        "  start = time.time()\n",
        "  comparedJaccard = compareSets(hashedShingledDf)\n",
        "  filteredJaccard = comparedJaccard.filter(comparedJaccard.Jaccard>threshold)\n",
        "  count_jaccard.append(filteredJaccard.count())\n",
        "  time_jaccard.append(time.time()-start)"
      ]
    },
    {
      "cell_type": "code",
      "execution_count": 34,
      "id": "91bc069d",
      "metadata": {
        "id": "91bc069d"
      },
      "outputs": [],
      "source": [
        "for elem in document_size:\n",
        "  df = spark.read.csv(\"News/True.csv\",header=True).limit(elem)\n",
        "  df = df.withColumn(\"id\", monotonically_increasing_id())\n",
        "  df = df.withColumnRenamed(\"text\",\"Text\")\n",
        "  hashedShingledDf = shingling(df,shingle_size)\n",
        "  minHashedDf = minHashing(hashedShingledDf, num_minHash)\n",
        "  minHashedDf.cache()\n",
        "  start = time.time()\n",
        "  comparedMinHashedDF = compareSignatures(minHashedDf)\n",
        "  filteredMinHashed = comparedMinHashedDF.filter(comparedMinHashedDF.Compared_Min_Hashed > threshold)\n",
        "  count_minHashing.append(filteredMinHashed.count())\n",
        "  time_minHashing.append(time.time()-start)"
      ]
    },
    {
      "cell_type": "code",
      "execution_count": 35,
      "id": "9e7350d6",
      "metadata": {
        "id": "9e7350d6"
      },
      "outputs": [],
      "source": [
        "for elem in document_size:\n",
        "  df = spark.read.csv(\"News/True.csv\",header=True).limit(elem)\n",
        "  df = df.withColumn(\"id\", monotonically_increasing_id())\n",
        "  df = df.withColumnRenamed(\"text\",\"Text\")\n",
        "  hashedShingledDf = shingling(df,shingle_size)\n",
        "  minHashedDf = minHashing(hashedShingledDf, num_minHash)\n",
        "  minHashedDf.cache()\n",
        "  start = time.time()\n",
        "  lshDF = LSH(minHashedDf,threshold,num_minHash,num_bands)\n",
        "  count_lsh.append(lshDF.count())\n",
        "  time_lsh.append(time.time()-start)"
      ]
    },
    {
      "cell_type": "code",
      "source": [
        "for elem in num_minHash_list:\n",
        "  df = spark.read.csv(\"News/True.csv\",header=True).limit(document_size[-1])\n",
        "  df = df.withColumn(\"id\", monotonically_increasing_id())\n",
        "  df = df.withColumnRenamed(\"text\",\"Text\")\n",
        "  hashedShingledDf = shingling(df,shingle_size)\n",
        "  minHashedDf = minHashing(hashedShingledDf, elem)\n",
        "  minHashedDf.cache()\n",
        "  start = time.time()\n",
        "  comparedMinHashedDF = compareSignatures(minHashedDf)\n",
        "  filteredMinHashed = comparedMinHashedDF.filter(comparedMinHashedDF.Compared_Min_Hashed > threshold)\n",
        "  count_minHashing_num .append(filteredMinHashed.count())\n",
        "  time_minHashing_num.append(time.time()-start)"
      ],
      "metadata": {
        "id": "iDhLZMbAc_XH"
      },
      "id": "iDhLZMbAc_XH",
      "execution_count": 36,
      "outputs": []
    },
    {
      "cell_type": "code",
      "execution_count": 37,
      "id": "30018137",
      "metadata": {
        "id": "30018137"
      },
      "outputs": [],
      "source": [
        "for elem in num_minHash_list:\n",
        "  df = spark.read.csv(\"News/True.csv\",header=True).limit(document_size[-1])\n",
        "  df = df.withColumn(\"id\", monotonically_increasing_id())\n",
        "  df = df.withColumnRenamed(\"text\",\"Text\")\n",
        "  hashedShingledDf = shingling(df,shingle_size)\n",
        "  minHashedDf = minHashing(hashedShingledDf, elem)\n",
        "  minHashedDf.cache()\n",
        "  start = time.time()\n",
        "  lshDF = LSH(minHashedDf,threshold,elem,num_bands)\n",
        "  count_lsh_minHashing_num .append(lshDF.count())\n",
        "  time_lsh_minHashing_num.append(time.time()-start)"
      ]
    },
    {
      "cell_type": "code",
      "source": [
        "for elem in band_size:\n",
        "  df = spark.read.csv(\"News/True.csv\",header=True).limit(document_size[-1])\n",
        "  df = df.withColumn(\"id\", monotonically_increasing_id())\n",
        "  df = df.withColumnRenamed(\"text\",\"Text\")\n",
        "  hashedShingledDf = shingling(df,shingle_size)\n",
        "  minHashedDf = minHashing(hashedShingledDf, num_minHash)\n",
        "  minHashedDf.cache()\n",
        "  start = time.time()\n",
        "  lshDF = LSH(minHashedDf,threshold,num_minHash,elem)\n",
        "  count_band.append(lshDF.count())\n",
        "  time_band.append(time.time()-start)"
      ],
      "metadata": {
        "id": "fQXCVeGFBQ8n"
      },
      "id": "fQXCVeGFBQ8n",
      "execution_count": 38,
      "outputs": []
    },
    {
      "cell_type": "markdown",
      "source": [
        "###Visualization"
      ],
      "metadata": {
        "id": "QI7vscE4n8Te"
      },
      "id": "QI7vscE4n8Te"
    },
    {
      "cell_type": "code",
      "source": [
        "plt.plot(document_size, time_jaccard,  label='Jaccard')\n",
        "plt.plot(document_size, time_minHashing, label='MinHashing with ' + str(num_minHash)+ \" minhashes\")\n",
        "plt.plot(document_size, time_lsh,  label='LSH '+ str(num_bands) +\" bands\")\n",
        "plt.title(\"Execution Time\")\n",
        "plt.xlabel('Number of documents')\n",
        "plt.ylabel('Execution time')\n",
        "plt.legend()\n",
        "plt.show()"
      ],
      "metadata": {
        "id": "zWBfXCbwdErr",
        "colab": {
          "base_uri": "https://localhost:8080/",
          "height": 295
        },
        "outputId": "70e46d68-9434-4858-b3ea-cdb909903090"
      },
      "id": "zWBfXCbwdErr",
      "execution_count": 39,
      "outputs": [
        {
          "output_type": "display_data",
          "data": {
            "text/plain": [
              "<Figure size 432x288 with 1 Axes>"
            ],
            "image/png": "[encoded data removed]"
          },
          "metadata": {
            "needs_background": "light"
          }
        }
      ]
    },
    {
      "cell_type": "code",
      "source": [
        "plt.plot(document_size, count_jaccard,  label='Jaccard')\n",
        "plt.plot(document_size, count_minHashing, label='MinHashing with ' + str(num_minHash)+ \" minhashes\")\n",
        "plt.plot(document_size, count_lsh,  label='LSH '+ str(num_bands) +\" bands\")\n",
        "plt.title(\"Similar document according to Threshold of \" +str(threshold))\n",
        "plt.xlabel('Number of documents')\n",
        "plt.ylabel('Execution time')\n",
        "plt.legend()\n",
        "plt.show()"
      ],
      "metadata": {
        "id": "1NcV8bLddGbk",
        "colab": {
          "base_uri": "https://localhost:8080/",
          "height": 295
        },
        "outputId": "d4a77c01-c634-4e1f-95e6-42c4e36d10fe"
      },
      "id": "1NcV8bLddGbk",
      "execution_count": 40,
      "outputs": [
        {
          "output_type": "display_data",
          "data": {
            "text/plain": [
              "<Figure size 432x288 with 1 Axes>"
            ],
            "image/png": "[encoded data removed]"
          },
          "metadata": {
            "needs_background": "light"
          }
        }
      ]
    },
    {
      "cell_type": "code",
      "source": [
        "plt.plot(num_minHash_list, [time_jaccard[-1]]*len(num_minHash_list),  label='Jaccard')\n",
        "plt.plot(num_minHash_list, time_minHashing_num , label='MinHashing')\n",
        "plt.plot(num_minHash_list, time_lsh_minHashing_num,  label='LSH '+ str(num_bands) +\" bands\")\n",
        "plt.title(\"Execution Time with \"+ str(document_size[-1]) +\" documents\")\n",
        "plt.xlabel('Number of MinHash')\n",
        "plt.ylabel('Execution time')\n",
        "plt.legend()\n",
        "plt.show()"
      ],
      "metadata": {
        "id": "v93bZ4epiBOM",
        "colab": {
          "base_uri": "https://localhost:8080/",
          "height": 295
        },
        "outputId": "94303dfd-19a1-4261-f6aa-76da5090606c"
      },
      "id": "v93bZ4epiBOM",
      "execution_count": 41,
      "outputs": [
        {
          "output_type": "display_data",
          "data": {
            "text/plain": [
              "<Figure size 432x288 with 1 Axes>"
            ],
            "image/png": "[encoded data removed]"
          },
          "metadata": {
            "needs_background": "light"
          }
        }
      ]
    },
    {
      "cell_type": "code",
      "source": [
        "plt.plot(num_minHash_list, [count_jaccard[-1]]*len(num_minHash_list),  label='Jaccard')\n",
        "plt.plot(num_minHash_list, count_minHashing_num , label='MinHashing')\n",
        "plt.plot(num_minHash_list, count_lsh_minHashing_num,  label='LSH '+ str(num_bands) +\" bands\")\n",
        "plt.title(\"Similar document according to Threshold of \" +str(threshold)+ \" with \"+ str(document_size[-1]) +\" documents\")\n",
        "plt.xlabel('Number of MinHash')\n",
        "plt.ylabel('Similar documents')\n",
        "plt.legend()\n",
        "plt.show()"
      ],
      "metadata": {
        "id": "03C-WQv5iCSq",
        "colab": {
          "base_uri": "https://localhost:8080/",
          "height": 295
        },
        "outputId": "61ada286-b727-4408-e3b6-2bedcaf6895f"
      },
      "id": "03C-WQv5iCSq",
      "execution_count": 42,
      "outputs": [
        {
          "output_type": "display_data",
          "data": {
            "text/plain": [
              "<Figure size 432x288 with 1 Axes>"
            ],
            "image/png": "[encoded data removed]"
          },
          "metadata": {
            "needs_background": "light"
          }
        }
      ]
    },
    {
      "cell_type": "code",
      "source": [
        "plt.plot(band_size, [time_jaccard[-1]]*len(band_size),  label='Jaccard')\n",
        "plt.plot(band_size, [time_minHashing[-1]]*len(band_size), label='MinHashing with ' + str(num_minHash)+ \" minhashes\")\n",
        "plt.plot(band_size, time_band,  label='LSH')\n",
        "plt.title(\"Execution Time with \"+ str(document_size[-1]) +\" documents\")\n",
        "plt.xlabel('Number of bands')\n",
        "plt.ylabel('Execution time')\n",
        "plt.legend()\n",
        "plt.show()"
      ],
      "metadata": {
        "id": "3S6kU_ceiD_7",
        "colab": {
          "base_uri": "https://localhost:8080/",
          "height": 295
        },
        "outputId": "19f06873-30ae-44c0-ebcf-36b8718075b6"
      },
      "id": "3S6kU_ceiD_7",
      "execution_count": 43,
      "outputs": [
        {
          "output_type": "display_data",
          "data": {
            "text/plain": [
              "<Figure size 432x288 with 1 Axes>"
            ],
            "image/png": "[encoded data removed]"
          },
          "metadata": {
            "needs_background": "light"
          }
        }
      ]
    },
    {
      "cell_type": "code",
      "source": [
        "plt.plot(band_size, [count_jaccard[-1]]*len(band_size),  label='Jaccard')\n",
        "plt.plot(band_size, [count_minHashing[-1]]*len(band_size), label='MinHashing with ' + str(num_minHash)+ \" minhashes\")\n",
        "plt.plot(band_size, count_band,  label='LSH')\n",
        "plt.title(\"Similar document according to Threshold of \" +str(threshold)+ \" with \"+ str(document_size[-1]) +\" documents\")\n",
        "plt.xlabel('Number of bands')\n",
        "plt.ylabel('Similar documents')\n",
        "plt.legend()\n",
        "plt.show()"
      ],
      "metadata": {
        "id": "QXbZpM6OiE_A",
        "colab": {
          "base_uri": "https://localhost:8080/",
          "height": 295
        },
        "outputId": "2ff0a457-aa47-44ee-d4b9-6d84d084e988"
      },
      "id": "QXbZpM6OiE_A",
      "execution_count": 44,
      "outputs": [
        {
          "output_type": "display_data",
          "data": {
            "text/plain": [
              "<Figure size 432x288 with 1 Axes>"
            ],
            "image/png": "[encoded data removed]"
          },
          "metadata": {
            "needs_background": "light"
          }
        }
      ]
    }
  ],
  "metadata": {
    "colab": {
      "provenance": [],
      "collapsed_sections": [
        "cf737cb4",
        "d41b4f16",
        "d24eac61",
        "99bed54e",
        "4EthgEDOon5-",
        "cb7e99d1",
        "121b849e",
        "43cf1b99",
        "61bc87fb",
        "XHcZAhbyqepB",
        "g92DLZjtrHRa",
        "098f5eec",
        "f7e96ac6",
        "ad1b5af0",
        "-RamLH1Nojgf",
        "7KIwhaJCrtRX",
        "OqOu1uBSry3l",
        "f1625e21"
      ]
    },
    "kernelspec": {
      "display_name": "Python 3 (ipykernel)",
      "language": "python",
      "name": "python3"
    },
    "language_info": {
      "codemirror_mode": {
        "name": "ipython",
        "version": 3
      },
      "file_extension": ".py",
      "mimetype": "text/x-python",
      "name": "python",
      "nbconvert_exporter": "python",
      "pygments_lexer": "ipython3",
      "version": "3.9.13"
    }
  },
  "nbformat": 4,
  "nbformat_minor": 5
}